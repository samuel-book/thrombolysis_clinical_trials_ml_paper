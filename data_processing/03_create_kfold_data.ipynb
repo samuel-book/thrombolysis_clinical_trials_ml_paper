{
 "cells": [
  {
   "attachments": {},
   "cell_type": "markdown",
   "metadata": {},
   "source": [
    "# SAMueL2 Create k-fold Data Sets\n",
    "\n",
    "## Plain English summary\n",
    "Create and save the data in 5 kfold splits.\n",
    "\n",
    "Create stratification based on hospital and disability at discharge (target feature)\n",
    "\n",
    "Read in file created in 02_reformat_data_ml.ipynb (02_reformatted_data_ml_remove_mt.csv). This dataset does not have a time cutoff, and removes patients that have thrombectomy, to train the set of six binary models to predict whether patient is discharged with a good outcome (defining good outcome as below each mRS level). Want just the thrombolysis effect, hence no patients are included that have thrombectomy.\n",
    "\n",
    "Use 9999 minutes for onset to thrombolysis time, for patients who did not have thrombolysis.\n",
    "\n",
    "Use -100 minutes for scan to thrombolysis time, for patients who did not have thrombolysis.\n",
    "\n",
    "No filter of patients based on their pathway duration."
   ]
  },
  {
   "attachments": {},
   "cell_type": "markdown",
   "metadata": {},
   "source": [
    "## Load imports"
   ]
  },
  {
   "cell_type": "code",
   "execution_count": 7,
   "metadata": {},
   "outputs": [],
   "source": [
    "import numpy as np\n",
    "import pandas as pd\n",
    "\n",
    "# sklearn for pre-processing\n",
    "from sklearn.model_selection import StratifiedKFold\n",
    "\n",
    "import os\n",
    "\n",
    "from dataclasses import dataclass\n",
    "\n",
    "# Turn warnings off to keep notebook tidy\n",
    "import warnings\n",
    "warnings.filterwarnings(\"ignore\")"
   ]
  },
  {
   "attachments": {},
   "cell_type": "markdown",
   "metadata": {},
   "source": [
    "## Set up paths and filenames\n",
    "\n",
    "Use os.path.join() to create filenames. So define folders without trailing forward slash, and include all characters in file names."
   ]
  },
  {
   "cell_type": "code",
   "execution_count": 8,
   "metadata": {},
   "outputs": [],
   "source": [
    "@dataclass(frozen=True)\n",
    "class Paths:\n",
    "    '''Singleton object for storing paths to data and database.'''\n",
    "\n",
    "    data_read_path: str = './output'\n",
    "    data_read_filename: str = '02_reformatted_data_ml_remove_mt.csv'\n",
    "    data_save_path: str = './output/kfold_5fold'\n",
    "    notebook: str = '03_'\n",
    "\n",
    "paths = Paths()"
   ]
  },
  {
   "attachments": {},
   "cell_type": "markdown",
   "metadata": {},
   "source": [
    "# Load data\n",
    "\n"
   ]
  },
  {
   "cell_type": "code",
   "execution_count": 9,
   "metadata": {},
   "outputs": [],
   "source": [
    "filename = os.path.join(paths.data_read_path, paths.data_read_filename)\n",
    "data = pd.read_csv(filename)"
   ]
  },
  {
   "attachments": {},
   "cell_type": "markdown",
   "metadata": {},
   "source": [
    "## Create stratification based on hospital and disability at discharge (target feature)"
   ]
  },
  {
   "cell_type": "code",
   "execution_count": 10,
   "metadata": {},
   "outputs": [],
   "source": [
    "strat = (data['stroke_team'].map(str) + '-' + \n",
    "         data['discharge_disability'].map(str))"
   ]
  },
  {
   "attachments": {},
   "cell_type": "markdown",
   "metadata": {},
   "source": [
    "## Set and check output folder exists"
   ]
  },
  {
   "cell_type": "code",
   "execution_count": 11,
   "metadata": {},
   "outputs": [],
   "source": [
    "if not os.path.exists(paths.data_save_path):\n",
    "     os.makedirs(paths.data_save_path)"
   ]
  },
  {
   "attachments": {},
   "cell_type": "markdown",
   "metadata": {},
   "source": [
    "## Create and save five k-fold splits"
   ]
  },
  {
   "cell_type": "code",
   "execution_count": 12,
   "metadata": {},
   "outputs": [],
   "source": [
    "# Set up splits\n",
    "number_of_splits = 5\n",
    "skf = StratifiedKFold(n_splits = number_of_splits, shuffle=True, random_state=13)\n",
    "skf.get_n_splits(data, strat.values)\n",
    "\n",
    "# Put in NumPy arrays\n",
    "X = data.values\n",
    "y = strat.values\n",
    "X_col_names = list(data)\n",
    "\n",
    "# Loop through the k-fold splits\n",
    "counter = 0\n",
    "for train_index, test_index in skf.split(X, y):  \n",
    "    \n",
    "    # Get Xtrain and test\n",
    "    train_np, test_np = X[train_index], X[test_index]\n",
    "    \n",
    "    # Convert to Pandas DataFrames\n",
    "    train = pd.DataFrame(train_np, columns=X_col_names)\n",
    "    test = pd.DataFrame(test_np, columns=X_col_names)\n",
    "    \n",
    "    # Save no unit encoding dataset\n",
    "    filename = os.path.join(paths.data_save_path, \n",
    "                            (paths.notebook + 'train_' + str(counter) + '.csv'))\n",
    "    train.to_csv(filename, index=False)\n",
    "    filename = os.path.join(paths.data_save_path, \n",
    "                            (paths.notebook + 'test_' + str(counter) + '.csv'))\n",
    "    test.to_csv(filename, index=False)\n",
    "        \n",
    "    # Increment counter\n",
    "    counter += 1"
   ]
  }
 ],
 "metadata": {
  "kernelspec": {
   "display_name": "Python 3.10.11 ('sam10')",
   "language": "python",
   "name": "python3"
  },
  "language_info": {
   "codemirror_mode": {
    "name": "ipython",
    "version": 3
   },
   "file_extension": ".py",
   "mimetype": "text/x-python",
   "name": "python",
   "nbconvert_exporter": "python",
   "pygments_lexer": "ipython3",
   "version": "3.10.12"
  },
  "orig_nbformat": 4,
  "vscode": {
   "interpreter": {
    "hash": "f85b883bff9a8a9f39576b94acbdf6672b3dc17c35647e7395f81e785740a4b3"
   }
  }
 },
 "nbformat": 4,
 "nbformat_minor": 2
}
